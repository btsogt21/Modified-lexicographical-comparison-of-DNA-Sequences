{
 "cells": [
  {
   "cell_type": "code",
   "execution_count": null,
   "id": "6c531e86",
   "metadata": {},
   "outputs": [],
   "source": [
    "import time\n",
    "import string\n",
    "import random\n",
    "from typing import List, Tuple"
   ]
  },
  {
   "cell_type": "code",
   "execution_count": null,
   "id": "3819f9b7",
   "metadata": {},
   "outputs": [],
   "source": [
    "# Generator function for list of dna sequences. Takes in\n",
    "# as input the desired number of DNA strings you want in \n",
    "# the list of dna strings with the caveat that \n",
    "# 0 < # of DNA strings <= 10^6.\n",
    "# Outputs a list of dna sequences where S_i ∈ {A, T, C, G},\n",
    "# 0 < len(S_i) <= 10^6, and 0 < len(concatenation of all \n",
    "# dna strings in list) < 10^8.\n",
    "\n",
    "def random_list_of_strings(length: int) -> Tuple[List[str], int]:\n",
    "    while length>10**6:\n",
    "        try:\n",
    "            length = int(input('Please enter an integer length greater than 0 and less than or equal to 10^6 :'))\n",
    "        except ValueError:\n",
    "            print('Please enter a valid integer greater than 0 and less than or equal to 10^6')\n",
    "    i = []\n",
    "    counter = 0\n",
    "    for x in range(length):\n",
    "        curr_rand = random.randint(1, 10**6)\n",
    "        counter += curr_rand\n",
    "        if counter>=10**8:\n",
    "            return_x = x\n",
    "            break\n",
    "        i.append(str(''.join(random.choices(['A', 'C', 'T', 'G'], k = curr_rand))))\n",
    "        return_x = x\n",
    "    return i, return_x"
   ]
  },
  {
   "cell_type": "code",
   "execution_count": null,
   "id": "f7d9023d",
   "metadata": {},
   "outputs": [],
   "source": [
    "# Generator function for list containing index pairs as tuples.\n",
    "# Takes as input desired number of index pairs to insert in list\n",
    "# as well as the highest index in the list of DNA strings.\n",
    "# Outputs a list containing tuples which themselves contain\n",
    "# two integers representing the indexes to be compared.\n",
    "# Caveat that 0 < tuples in list <= 10^6.\n",
    "def list_of_indices(length:int, max_index:int) -> List[Tuple[int]]:\n",
    "    while length>10**6:\n",
    "        try:\n",
    "            length = int(input('Please enter an integer length greater than 0 and less than or equal to 10^6 :'))\n",
    "        except ValueError:\n",
    "            print('Please enter a valid integer greater than 0 and less than or equal to 10^6')\n",
    "    i = []\n",
    "    for x in range(length):\n",
    "        i.append((random.randint(1, max_index-1), random.randint(1, max_index-1)))\n",
    "    return i"
   ]
  },
  {
   "cell_type": "code",
   "execution_count": null,
   "id": "f2343fb3",
   "metadata": {},
   "outputs": [],
   "source": [
    "# Function that takes in list of dna sequences and list of\n",
    "# index pairs (i, j) and outputs whether or not s_i is\n",
    "# lexicographically less than s_j for each index pair. \n",
    "# Output is in form of list of booleans. Caveat that if \n",
    "# len(s_i) < len(s_j), s_i < s_j will evaluate to True.\n",
    "# However, if len(s_i) is not less than len(s_j), then\n",
    "# lexicographical comparison will occur as normal. \n",
    "# For example,\n",
    "\n",
    "# 'AG' < 'AAA' will output as 'True' when put through our\n",
    "# function as \n",
    "# len('AG') < len('AAA') despite the fact that, purely\n",
    "# lexicographically, 'AG' < 'AAA' should output 'False'.\n",
    "\n",
    "# However,\n",
    "# 'AAA' < 'AG' will also output as 'True' given that\n",
    "# len(s_i), in this case, is not less than len(s_j), and\n",
    "# purely lexicographically, 'AAA' < 'AG' would output 'True'\n",
    "\n",
    "# less_than_v2 is the version of less_than where if\n",
    "# len(s_i) > len(s_j), then s_i < s_j evaluates to 'False'\n",
    "# regardless of what purely lexicographical comparison\n",
    "# would output. That is, 'AAA' (s_i) < 'AG'(s_j) would \n",
    "# output 'False' as len('AG') < len('AAA'), even though,\n",
    "# purely lexicographically, 'AAA' < 'AG' would output as\n",
    "# 'True'.\n",
    "\n",
    "def less_than(s: List[str], q: List[Tuple[int]]) -> List[bool]:\n",
    "    return [True if len(s[i])<len(s[j]) else s[i]<s[j] for i, j in q]"
   ]
  },
  {
   "cell_type": "code",
   "execution_count": null,
   "id": "a2f41aba",
   "metadata": {},
   "outputs": [],
   "source": [
    "def less_than_v2(s: List[str], q: List[Tuple[int]]) -> List[bool]:\n",
    "    return [True if len(s[i])<len(s[j]) else False if len(s[i])>len(s[j]) else s[i]<s[j] for i, j in q]"
   ]
  },
  {
   "cell_type": "code",
   "execution_count": null,
   "id": "ec501d34",
   "metadata": {},
   "outputs": [],
   "source": [
    "test_list = ['AG','AAA', 'TG', 'TAA']\n",
    "test_indices = [(0, 1), (2, 3), (1, 3), (2, 0), (1, 0)]\n",
    "\n",
    "# 'AG' < 'AAA' : True as len('AG') < len('AAA'), although, purely lexicographically,\n",
    "# 'AG' < 'AAA' should evaluate to false.\n",
    "\n",
    "# similar case for 'TG' < 'TAA' : True as len('TG') < len('TAA')"
   ]
  },
  {
   "cell_type": "code",
   "execution_count": null,
   "id": "234f0f1a",
   "metadata": {},
   "outputs": [],
   "source": [
    "less_than(test_list, test_indices)"
   ]
  },
  {
   "cell_type": "code",
   "execution_count": null,
   "id": "f0b28a7c",
   "metadata": {},
   "outputs": [],
   "source": [
    "'AAA' < 'AG'"
   ]
  },
  {
   "cell_type": "code",
   "execution_count": null,
   "id": "4c4e3f56",
   "metadata": {},
   "outputs": [],
   "source": [
    "# Tester function that utilizes the previously described\n",
    "# functions to test the less_than functions. Takes in as\n",
    "# input desired # of dna strings in the DNA list to test\n",
    "# as well as the desired # of index pairs in the list of \n",
    "# index pairs to test. Outputs the same type of output as \\\n",
    "# the less_than/less_than_v2 functions. \n",
    "def final_tester(length_of_string_list:int, length_of_index_list:int)-> List[bool]:\n",
    "    list_o_strings, highest_index = random_list_of_strings(length_of_string_list)\n",
    "    list_o_indices = list_of_indices(length_of_index_list, highest_index)\n",
    "    return less_than(list_o_strings, list_o_indices)"
   ]
  },
  {
   "cell_type": "code",
   "execution_count": null,
   "id": "e113e4b9",
   "metadata": {},
   "outputs": [],
   "source": [
    "final_tester(1000000, 1000000)"
   ]
  },
  {
   "cell_type": "code",
   "execution_count": null,
   "id": "af46c799",
   "metadata": {},
   "outputs": [],
   "source": []
  }
 ],
 "metadata": {
  "kernelspec": {
   "display_name": "Python 3 (ipykernel)",
   "language": "python",
   "name": "python3"
  },
  "language_info": {
   "codemirror_mode": {
    "name": "ipython",
    "version": 3
   },
   "file_extension": ".py",
   "mimetype": "text/x-python",
   "name": "python",
   "nbconvert_exporter": "python",
   "pygments_lexer": "ipython3",
   "version": "3.9.7"
  }
 },
 "nbformat": 4,
 "nbformat_minor": 5
}
